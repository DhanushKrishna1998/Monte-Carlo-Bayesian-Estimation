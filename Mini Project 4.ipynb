{
 "cells": [
  {
   "cell_type": "markdown",
   "metadata": {},
   "source": [
    "# Estimation Theory - Mini Project 4"
   ]
  },
  {
   "cell_type": "markdown",
   "metadata": {},
   "source": [
    "Consider the estimation of the covariance of a bivariate Gaussian distribution. We have access to $n$ observations\n",
    "$y_i \\sim \\mathcal{N}(0,\\Sigma)$. $y_i$ is a $2\\times1$ vector, $\\Sigma$ is a $2\\times2$ matrix. \n",
    "\n",
    "$\\vec{y}$ is set of all observations $y_i$.\n",
    "\n",
    "$$\\Sigma = \\begin{bmatrix} 1 & 0 \\\\ 0 & 2\n",
    "\\end{bmatrix}$$\n",
    "\n",
    "and $n = 10, 100, 1000$"
   ]
  },
  {
   "cell_type": "code",
   "execution_count": 1,
   "metadata": {},
   "outputs": [],
   "source": [
    "from pylab import *"
   ]
  },
  {
   "cell_type": "code",
   "execution_count": 2,
   "metadata": {},
   "outputs": [],
   "source": [
    "from scipy.stats import invwishart, invgamma, multivariate_normal\n",
    "from scipy.stats import beta\n",
    "import scipy.optimize"
   ]
  },
  {
   "cell_type": "code",
   "execution_count": 3,
   "metadata": {},
   "outputs": [],
   "source": [
    "from tqdm import tqdm_notebook"
   ]
  },
  {
   "cell_type": "code",
   "execution_count": 4,
   "metadata": {},
   "outputs": [],
   "source": [
    "rcParams['figure.figsize'] = 12,9\n",
    "rcParams['axes.grid'] = True\n",
    "rcParams['font.size'] = 18\n",
    "rcParams['figure.facecolor'] = 'w'"
   ]
  },
  {
   "cell_type": "code",
   "execution_count": 5,
   "metadata": {},
   "outputs": [],
   "source": [
    "sigma = np.array([[1, 0], [0, 2]])"
   ]
  },
  {
   "cell_type": "code",
   "execution_count": 6,
   "metadata": {},
   "outputs": [],
   "source": [
    "def getY(n, repeats=100, sigma=None):\n",
    "    sigma = array([[1.0, 0], [0, 2]]) if sigma is None else sigma\n",
    "    samples = multivariate_normal.rvs(mean=zeros(len(sigma)), cov=sigma, size=(repeats, n))\n",
    "    return samples"
   ]
  },
  {
   "cell_type": "code",
   "execution_count": 7,
   "metadata": {},
   "outputs": [],
   "source": [
    "y = getY(100)"
   ]
  },
  {
   "cell_type": "code",
   "execution_count": 8,
   "metadata": {},
   "outputs": [],
   "source": [
    "def eval_estimator(estimator, sigma=None, ns=[10, 100, 1000], repeats=1000):\n",
    "    sigma = array([[1.0, 0], [0, 2]]) if sigma==None else sigma\n",
    "    mses = []\n",
    "    for n in ns:\n",
    "        y = getY(n=n, repeats=repeats, sigma=sigma)\n",
    "        estimates = estimator(y) # (repeats, 2, 2)\n",
    "        mse = (norm(estimates - sigma, axis=(1, 2))**2).mean()\n",
    "        mses.append(mse)\n",
    "    return mses"
   ]
  },
  {
   "cell_type": "markdown",
   "metadata": {},
   "source": [
    "# Monte Carlo Bayesian estimation:\n",
    "This method is useful when the posterior is not available in closed form. Note that we\n",
    "require the mean of the posterior distribution.\n",
    "\n",
    "<img src='4.4.1.png'>\n",
    "\n",
    "The likelihood is,\n",
    "\n",
    "<img src='4.4.2.png'>\n",
    "\n",
    "Instead of using the closed form expression for the posterior update, find the posterior using Monte Carlo integration using the following equation\n",
    "\n",
    "<img src='4.4.3.png'>\n",
    "\n",
    "where each $\\Sigma_j \\sim p(\\Sigma)$ (a sample drawn from the prior distribution). Report the values of $A$ for $n = 10; 100; 1000$ and for $m = 10^3, 10^4, 10^5$ and for $p(\\Sigma) = \\sim InvWishart_{\\nu_0}(\\Delta_0)$ for the following paramters:\n",
    "\n",
    "(a) $\\nu_0 = 5$, $\\Delta_0 = \\begin{bmatrix} 4 & 0 \\\\ 0 & 5\\end{bmatrix}$\n",
    "\n",
    "(b) $\\nu_0 = 5$, $\\Delta_0 = \\begin{bmatrix} 2 & 0 \\\\ 0 & 4\\end{bmatrix}$\n",
    "\n",
    "Which prior performs better? Why do you think it happens? Can you justify why modeling the prior is important? Note that you can  now model your prior distribution as any non-conjugate distribution as well."
   ]
  },
  {
   "cell_type": "code",
   "execution_count": 9,
   "metadata": {},
   "outputs": [],
   "source": [
    "v = 5\n",
    "delta0 = np.array([[4,0], [0,5]])\n",
    "delta1 = np.array([[2,0], [0,4]])"
   ]
  },
  {
   "cell_type": "code",
   "execution_count": 10,
   "metadata": {},
   "outputs": [],
   "source": [
    "def monte_carlo(y, v=5, delta=delta0, n=100, m=10000, repeats=100):\n",
    "    p_sigma = invwishart.rvs(v, delta, size=(repeats, m), random_state=None)\n",
    "    d = np.power(np.linalg.det(p_sigma), -n/2)\n",
    "    A = []\n",
    "    for i in range(repeats):\n",
    "        expo = np.exp(-0.5*np.einsum('ni,jik,nk->j', y[i], np.linalg.inv(p_sigma[i]), y[i]))\n",
    "        a_den = np.sum(d[i]*expo)\n",
    "        a_num = np.sum(np.einsum('nij,n->nij', p_sigma[i], d[i]*expo), axis=0)\n",
    "        A.append(a_num/a_den)\n",
    "    return A"
   ]
  },
  {
   "cell_type": "markdown",
   "metadata": {},
   "source": [
    "<font size=5>$$A = \\frac{\\sum\\limits_{j=1}^m \\Big[\\Sigma_j \\prod_{i=1}^n \\frac{1}{|\\Sigma_j|^{1/2}} exp\\big( -\\frac{1}{2}y_i^T\\Sigma_j^{-1}y_i \\big) \\Big]}{\\sum\\limits_{j=1}^m \\Big[ \\prod_{i=1}^n \\frac{1}{|\\Sigma_j|^{1/2}} exp\\big( -\\frac{1}{2}y_i^T\\Sigma_j^{-1}y_i \\big) \\Big]}$$"
   ]
  },
  {
   "cell_type": "code",
   "execution_count": 11,
   "metadata": {},
   "outputs": [],
   "source": [
    "def bayes_monte_carlo(y, v=5, delta=delta0, n=100, m=10000, repeats=100):\n",
    "    p_sigma = invwishart.rvs(v, delta, size=(repeats, m), random_state=None)\n",
    "    d = np.power(np.linalg.det(p_sigma), -1/2)\n",
    "    A = []\n",
    "    for i in range(repeats):\n",
    "        e = np.exp(-0.5*np.einsum('ni,jik,nk->nj', y[i], np.linalg.inv(p_sigma[i]), y[i]))\n",
    "        expo = np.einsum('ij,j->ij', e, d[i])\n",
    "        product = np.prod(expo, axis=0)\n",
    "        a_den = np.sum(product)\n",
    "        a_num = np.sum(np.einsum('nij,n->nij', p_sigma[i], product), axis=0)\n",
    "        A.append(a_num/a_den)\n",
    "    return A"
   ]
  },
  {
   "cell_type": "code",
   "execution_count": 12,
   "metadata": {},
   "outputs": [],
   "source": [
    "y = getY(n = 100, repeats=100)"
   ]
  },
  {
   "cell_type": "code",
   "execution_count": 13,
   "metadata": {},
   "outputs": [],
   "source": [
    "r0 = bayes_monte_carlo(y, delta=delta0, m=1000, repeats=100)\n",
    "r1 = bayes_monte_carlo(y, delta=delta0, m=10000, repeats=100)\n",
    "r2 = bayes_monte_carlo(y, delta=delta0, m=100000, repeats=100)"
   ]
  },
  {
   "cell_type": "code",
   "execution_count": 14,
   "metadata": {},
   "outputs": [
    {
     "name": "stdout",
     "output_type": "stream",
     "text": [
      "[[1.03961523e+00 6.47337374e-04]\n",
      " [6.47337374e-04 1.98565210e+00]]\n",
      "[[ 1.04299112 -0.00224548]\n",
      " [-0.00224548  1.97603585]]\n",
      "[[ 1.04277443e+00 -2.57396711e-04]\n",
      " [-2.57396711e-04  1.97458875e+00]]\n"
     ]
    }
   ],
   "source": [
    "print(np.sum(r0, axis=0)/100)\n",
    "print(np.sum(r1, axis=0)/100)\n",
    "print(np.sum(r2, axis=0)/100)"
   ]
  },
  {
   "cell_type": "code",
   "execution_count": 15,
   "metadata": {},
   "outputs": [
    {
     "name": "stderr",
     "output_type": "stream",
     "text": [
      "C:\\Users\\Home\\Anaconda3\\lib\\site-packages\\ipykernel_launcher.py:11: RuntimeWarning: invalid value encountered in true_divide\n",
      "  # This is added back by InteractiveShellApp.init_path()\n"
     ]
    },
    {
     "data": {
      "text/plain": [
       "[0.9921028980357329, 0.1461985002020579, nan]"
      ]
     },
     "execution_count": 15,
     "metadata": {},
     "output_type": "execute_result"
    }
   ],
   "source": [
    "eval_estimator(bayes_monte_carlo, sigma=None, ns=[10, 100, 1000], repeats=1000)"
   ]
  }
 ],
 "metadata": {
  "kernelspec": {
   "display_name": "Python 3",
   "language": "python",
   "name": "python3"
  },
  "language_info": {
   "codemirror_mode": {
    "name": "ipython",
    "version": 3
   },
   "file_extension": ".py",
   "mimetype": "text/x-python",
   "name": "python",
   "nbconvert_exporter": "python",
   "pygments_lexer": "ipython3",
   "version": "3.7.3"
  }
 },
 "nbformat": 4,
 "nbformat_minor": 4
}
